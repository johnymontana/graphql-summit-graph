{
 "cells": [
  {
   "cell_type": "markdown",
   "metadata": {},
   "source": [
    "# Import The GraphQL Summit Graph\n",
    "\n",
    "This python script will scrape the GraphQL Summit schedule website and insert the session data into Neo4j.\n",
    "\n",
    "![](../images/neo4j.png)"
   ]
  },
  {
   "cell_type": "code",
   "execution_count": null,
   "metadata": {},
   "outputs": [],
   "source": [
    "import urllib\n",
    "from bs4 import BeautifulSoup\n",
    "import csv\n",
    "import requests\n",
    "import cssutils\n",
    "from neo4j import GraphDatabase"
   ]
  },
  {
   "cell_type": "code",
   "execution_count": null,
   "metadata": {},
   "outputs": [],
   "source": [
    "url = \"https://summit.graphql.com/speakers\"\n",
    "page = requests.get(url).text\n",
    "soup = BeautifulSoup(page, 'html.parser')\n",
    "\n",
    "speakers = soup.find_all('div', attrs={'class': 'SpeakersList-module--list--1FaUX'})\n",
    "\n",
    "talks = []\n",
    "\n",
    "titles = soup.select('[class*=\"infoTitle\"]')\n",
    "descriptions = soup.select('[class*=\"infoText\"]')\n",
    "names = soup.select('[class*=\"Speaker-module--name\"]')\n",
    "jobs = soup.select('[class*=\"Speaker-module--text\"]')\n",
    "pics = soup.select('[class*=\"HoloContainer-module--photo-\"]')\n",
    "\n",
    "#titles = list(set(titles))\n",
    "#descriptions = list(set(descriptions))\n",
    "\n",
    "\n",
    "print(len(titles))\n",
    "print(len(descriptions))\n",
    "print(len(names))\n",
    "\n",
    "for i in range(0,len(names)):\n",
    "    talk = {}\n",
    "    talk['session_title'] = titles[2*i].text\n",
    "    talk['description'] = descriptions[2*i].text\n",
    "    talk['speaker'] = names[i].text\n",
    "    \n",
    "    speaker_bio = jobs[i].text.split(\" at \")\n",
    "    \n",
    "    talk['speaker_title'] = speaker_bio[0]\n",
    "    talk['company'] = speaker_bio[1]\n",
    "    \n",
    "    #print(pics[i][\"style\"])\n",
    "    \n",
    "    style = cssutils.parseStyle(pics[i][\"style\"])\n",
    "    \n",
    "    url = style['background-image']\n",
    "    \n",
    "    talk['pic'] = url.replace(url[:4], '').replace(url[:-1], '')\n",
    "    talks.append(talk)\n",
    "    \n",
    "print(talks)\n",
    "\n"
   ]
  },
  {
   "cell_type": "code",
   "execution_count": null,
   "metadata": {},
   "outputs": [],
   "source": [
    "# session_title, speaker_title, description, speaker, company, pic\n",
    "\n",
    "query = '''\n",
    "UNWIND $talks as talk\n",
    "MERGE (s:Session {title: talk.session_title})\n",
    "  SET s.description = talk.description\n",
    "MERGE (sp:Speaker {name: talk.speaker})\n",
    "  SET sp.pic = talk.pic, sp.title = talk.speaker_title //FIXME: relationship property ;-)\n",
    "MERGE (c:Company {name: talk.company})\n",
    "MERGE (s)<-[:PRESENTS]-(sp)\n",
    "MERGE (sp)-[:WORKS_FOR]->(c)\n",
    "'''"
   ]
  },
  {
   "cell_type": "code",
   "execution_count": null,
   "metadata": {},
   "outputs": [],
   "source": [
    "from neo4j import *\n",
    "\n",
    "\n",
    "uri = \"bolt://localhost:7687\"\n",
    "user = \"neo4j\"\n",
    "password = \"letmein\"\n",
    "\n",
    "driver = GraphDatabase.driver(uri, auth=(user, password))\n",
    "\n",
    "with driver.session() as session:\n",
    "        session.run(query, parameters={'talks': talks})"
   ]
  },
  {
   "cell_type": "code",
   "execution_count": null,
   "metadata": {},
   "outputs": [],
   "source": []
  },
  {
   "cell_type": "code",
   "execution_count": null,
   "metadata": {},
   "outputs": [],
   "source": []
  },
  {
   "cell_type": "code",
   "execution_count": null,
   "metadata": {},
   "outputs": [],
   "source": []
  }
 ],
 "metadata": {
  "kernelspec": {
   "display_name": "Python 3",
   "language": "python",
   "name": "python3"
  },
  "language_info": {
   "codemirror_mode": {
    "name": "ipython",
    "version": 3
   },
   "file_extension": ".py",
   "mimetype": "text/x-python",
   "name": "python",
   "nbconvert_exporter": "python",
   "pygments_lexer": "ipython3",
   "version": "3.6.5"
  }
 },
 "nbformat": 4,
 "nbformat_minor": 2
}
